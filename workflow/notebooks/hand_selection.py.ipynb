{
 "cells": [
  {
   "cell_type": "markdown",
   "id": "c26a413e",
   "metadata": {},
   "source": [
    "# Please do not forget to run first the cell above ☝ \n",
    "### It will allow you to use snakemake arguments (wilcards, input, output ...)"
   ]
  },
  {
   "cell_type": "markdown",
   "id": "c4d2de00",
   "metadata": {},
   "source": [
    "### Symlink PDF plots to Jupyter NB directory"
   ]
  },
  {
   "cell_type": "code",
   "execution_count": null,
   "id": "50a74d9a",
   "metadata": {},
   "outputs": [],
   "source": [
    "out_ln = \".snakemake/scripts/CountComplete_{sample}_{plottype}.pdf\".format(sample=snakemake.wildcards.sample, plottype=\"classic\")\n",
    "!ln -f -s $(pwd)/\"$snakemake.input.pdf_raw[0]\" $(pwd)/\"$out_ln\""
   ]
  },
  {
   "cell_type": "markdown",
   "id": "4e4b2277",
   "metadata": {},
   "source": [
    "### Enable jupyter widgets"
   ]
  },
  {
   "cell_type": "code",
   "execution_count": null,
   "id": "1afb9059",
   "metadata": {},
   "outputs": [],
   "source": [
    "!jupyter nbextension enable --py widgetsnbextension"
   ]
  },
  {
   "cell_type": "markdown",
   "id": "861282b7",
   "metadata": {},
   "source": [
    "### Which sample are you currently processing ?"
   ]
  },
  {
   "cell_type": "code",
   "execution_count": null,
   "id": "6eea38a8",
   "metadata": {},
   "outputs": [],
   "source": [
    "print(\"{}\".format(snakemake.wildcards.sample))"
   ]
  },
  {
   "cell_type": "markdown",
   "id": "9c33f5c8",
   "metadata": {},
   "source": [
    "### Display the Mosaic Count to allow you to identify correct cells"
   ]
  },
  {
   "cell_type": "code",
   "execution_count": null,
   "id": "4b348c03",
   "metadata": {},
   "outputs": [],
   "source": [
    "from IPython.display import IFrame\n",
    "IFrame(\"CountComplete_{sample}.pdf\".format(sample=snakemake.wildcards.sample), width=1000, height=850)"
   ]
  },
  {
   "cell_type": "markdown",
   "id": "b88d2a43",
   "metadata": {},
   "source": [
    "### Following cell will allow you to unselect cells that look not correct according your expertise \n",
    "#### Please <ins>do not</ins> RE-select cells that were automatically unselected cells (corresponding to low-coverage by [mosaicatcher](https://github.com/friendsofstrandseq/mosaicatcher) count program and not possible to process by the pipeline)"
   ]
  },
  {
   "cell_type": "code",
   "execution_count": null,
   "id": "de38ea3e",
   "metadata": {
    "scrolled": true
   },
   "outputs": [],
   "source": [
    "from ipysheet import sheet, column, to_dataframe\n",
    "import ipywidgets as w\n",
    "from workflow.scripts.utils import jupyter_utils\n",
    "s = jupyter_utils.get_ipysheet(snakemake.params.cell_per_sample, snakemake.wildcards.sample, snakemake.input.info)\n",
    "s"
   ]
  },
  {
   "cell_type": "markdown",
   "id": "82389837",
   "metadata": {},
   "source": [
    "### Please check the content of the dataframe before saving"
   ]
  },
  {
   "cell_type": "code",
   "execution_count": null,
   "id": "ec91798b",
   "metadata": {},
   "outputs": [],
   "source": [
    "import pandas as pd\n",
    "df = to_dataframe(s)\n",
    "df"
   ]
  },
  {
   "cell_type": "markdown",
   "id": "a4a09a1f",
   "metadata": {},
   "source": [
    "### Formatting, saving file & cleaning data"
   ]
  },
  {
   "cell_type": "code",
   "execution_count": null,
   "id": "1c7fd038",
   "metadata": {},
   "outputs": [],
   "source": [
    "df = df.rename({'selected?': 'prediction'}, axis=1)\n",
    "df[\"prediction\"] = df['prediction'].astype(int)\n",
    "df[\"probability\"] = df[\"prediction\"]\n",
    "df['cell'] = df['cell'] + \".sort.mdup.bam\"\n",
    "df.to_csv(snakemake.output[0], index=False, sep=\"\\t\")\n",
    "import subprocess\n",
    "subprocess.call(\"rm .snakemake/scripts/CountComplete_{sample}.pdf\".format(sample=snakemake.wildcards.sample), shell=True)"
   ]
  },
  {
   "cell_type": "markdown",
   "id": "bac32a59",
   "metadata": {},
   "source": [
    "# Before leaving! Please read the following:\n",
    "### 1. File > Close and Halt\n",
    "### 2. Click on Quit (top right)\n",
    "### 3. You can close the webpage\n"
   ]
  },
  {
   "cell_type": "code",
   "execution_count": 1,
   "id": "2af71c02",
   "metadata": {},
   "outputs": [
    {
     "name": "stdout",
     "output_type": "stream",
     "text": [
      "A\n"
     ]
    }
   ],
   "source": [
    " print(\"A\")"
   ]
  }
 ],
 "metadata": {
  "kernelspec": {
   "display_name": "Python 3.10.6 (conda)",
   "language": "python",
   "name": "python3"
  },
  "language_info": {
   "codemirror_mode": {
    "name": "ipython",
    "version": 3
   },
   "file_extension": ".py",
   "mimetype": "text/x-python",
   "name": "python",
   "nbconvert_exporter": "python",
   "pygments_lexer": "ipython3",
   "version": "3.10.6"
  },
  "vscode": {
   "interpreter": {
    "hash": "c9f8a1c7a4c67c833114d4223ceab31853347a6b27c3c4073f1189b29179d945"
   }
  }
 },
 "nbformat": 4,
 "nbformat_minor": 5
}
