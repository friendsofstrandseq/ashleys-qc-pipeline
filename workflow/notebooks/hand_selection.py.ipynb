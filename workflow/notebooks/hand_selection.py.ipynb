{
 "cells": [
  {
   "cell_type": "markdown",
   "id": "925d899a",
   "metadata": {},
   "source": [
    "# Please do not forget to run first the cell above ☝ "
   ]
  },
  {
   "cell_type": "markdown",
   "id": "dd2e7792",
   "metadata": {},
   "source": [
    "### Enable jupyter widgets"
   ]
  },
  {
   "cell_type": "code",
   "execution_count": 2,
   "id": "cb27e5bf",
   "metadata": {},
   "outputs": [],
   "source": [
    "!jupyter nbextension enable --py widgetsnbextension"
   ]
  },
  {
   "cell_type": "markdown",
   "id": "6a632fe7",
   "metadata": {},
   "source": [
    "### Which sample are you currently processing ?"
   ]
  },
  {
   "cell_type": "code",
   "execution_count": 3,
   "id": "469c1990",
   "metadata": {},
   "outputs": [],
   "source": [
    "print(\"{}\".format(snakemake.wildcards.sample))"
   ]
  },
  {
   "cell_type": "markdown",
   "id": "ca77f0f6",
   "metadata": {},
   "source": [
    "### Display the Mosaic Count to allow you to identify correct cells"
   ]
  },
  {
   "cell_type": "code",
   "execution_count": 4,
   "id": "a1ea2d41",
   "metadata": {},
   "outputs": [],
   "source": [
    "from IPython.display import IFrame\n",
    "IFrame(\"CountComplete_{sample}.pdf\".format(sample=snakemake.wildcards.sample), width=1000, height=850)"
   ]
  },
  {
   "cell_type": "markdown",
   "id": "48834994",
   "metadata": {},
   "source": [
    "### Following cell will allow you to unselect cells that look not correct according your expertise "
   ]
  },
  {
   "cell_type": "code",
   "execution_count": 5,
   "id": "8805fa2e",
   "metadata": {
    "scrolled": true
   },
   "outputs": [],
   "source": [
    "from ipysheet import sheet, column, to_dataframe\n",
    "import ipywidgets as w\n",
    "from workflow.scripts.utils import jupyter_utils\n",
    "s = jupyter_utils.get_ipysheet(snakemake.params.cell_per_sample, snakemake.wildcards.sample)\n",
    "s"
   ]
  },
  {
   "cell_type": "markdown",
   "id": "a0aec2fb",
   "metadata": {},
   "source": [
    "### Please check the content of the dataframe before saving"
   ]
  },
  {
   "cell_type": "code",
   "execution_count": 6,
   "id": "79931cc9",
   "metadata": {},
   "outputs": [],
   "source": [
    "import pandas as pd\n",
    "df = to_dataframe(s)\n",
    "df"
   ]
  },
  {
   "cell_type": "markdown",
   "id": "3103f646",
   "metadata": {},
   "source": [
    "### Formatting, saving file & cleaning data"
   ]
  },
  {
   "cell_type": "code",
   "execution_count": 7,
   "id": "54c6c826",
   "metadata": {},
   "outputs": [],
   "source": [
    "df = df.rename({'selected?': 'prediction'}, axis=1)\n",
    "df[\"prediction\"] = df['prediction'].astype(int)\n",
    "df[\"probability\"] = df[\"prediction\"]\n",
    "df['cell'] = df['cell'] + \".sort.mdup.bam\"\n",
    "df.to_csv(snakemake.output[0], index=False, sep=\"\\t\")\n",
    "import subprocess\n",
    "subprocess.call(\"rm .snakemake/scripts/CountComplete_{sample}.pdf\".format(sample=snakemake.wildcards.sample), shell=True)"
   ]
  },
  {
   "cell_type": "markdown",
   "id": "55f94178",
   "metadata": {},
   "source": [
    "# Before leaving! Please read the following:\n",
    "### 1. Save the notebook (first icon at left on toolbar)\n",
    "### 2. File > Close and Halt\n",
    "### 3. Click on Quit (top right)\n",
    "### 4. You can close the webpage\n"
   ]
  }
 ],
 "metadata": {
  "kernelspec": {
   "display_name": "Python 3 (ipykernel)",
   "language": "python",
   "name": "python3"
  },
  "language_info": {
   "codemirror_mode": {
    "name": "ipython",
    "version": 3
   },
   "file_extension": ".py",
   "mimetype": "text/x-python",
   "name": "python",
   "nbconvert_exporter": "python",
   "pygments_lexer": "ipython3",
   "version": "3.10.5"
  }
 },
 "nbformat": 4,
 "nbformat_minor": 5
}
