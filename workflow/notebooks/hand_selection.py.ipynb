{
 "cells": [
  {
   "cell_type": "markdown",
   "id": "925d899a",
   "metadata": {},
   "source": [
    "# Please do not forget to run first the cell above ☝ \n",
    "### It will allow you to use snakemake arguments (wilcards, input, output ...)"
   ]
  },
  {
   "cell_type": "markdown",
   "id": "5b5e8d4b",
   "metadata": {},
   "source": [
    "### Symlink PDF plots to Jupyter NB directory"
   ]
  },
  {
   "cell_type": "code",
   "execution_count": null,
   "id": "2249efef",
   "metadata": {},
   "outputs": [],
   "source": [
    "out_ln = \".snakemake/scripts/CountComplete_{sample}.pdf\".format(sample=snakemake.wildcards.sample)\n",
    "!ln -f -s $(pwd)/\"$snakemake.input.pdf_raw\" $(pwd)/\"$out_ln\""
   ]
  },
  {
   "cell_type": "markdown",
   "id": "dd2e7792",
   "metadata": {},
   "source": [
    "### Enable jupyter widgets"
   ]
  },
  {
   "cell_type": "code",
   "execution_count": null,
   "id": "cb27e5bf",
   "metadata": {},
   "outputs": [],
   "source": [
    "!jupyter nbextension enable --py widgetsnbextension"
   ]
  },
  {
   "cell_type": "markdown",
   "id": "6a632fe7",
   "metadata": {},
   "source": [
    "### Which sample are you currently processing ?"
   ]
  },
  {
   "cell_type": "code",
   "execution_count": null,
   "id": "469c1990",
   "metadata": {},
   "outputs": [],
   "source": [
    "print(\"{}\".format(snakemake.wildcards.sample))"
   ]
  },
  {
   "cell_type": "markdown",
   "id": "ca77f0f6",
   "metadata": {},
   "source": [
    "### Display the Mosaic Count to allow you to identify correct cells"
   ]
  },
  {
   "cell_type": "code",
   "execution_count": null,
   "id": "fe8604a2",
   "metadata": {},
   "outputs": [],
   "source": [
    "from IPython.display import IFrame\n",
    "IFrame(\"CountComplete_{sample}.pdf\".format(sample=snakemake.wildcards.sample), width=1000, height=850)"
   ]
  },
  {
   "cell_type": "markdown",
   "id": "48834994",
   "metadata": {},
   "source": [
    "### Following cell will allow you to unselect cells that look not correct according your expertise \n",
    "#### Please <ins>do not</ins> RE-select cells that were automatically unselected cells (corresponding to low-coverage by [mosaicatcher](https://github.com/friendsofstrandseq/mosaicatcher) count program and not possible to process by the pipeline)"
   ]
  },
  {
   "cell_type": "code",
   "execution_count": null,
   "id": "8805fa2e",
   "metadata": {
    "scrolled": true
   },
   "outputs": [],
   "source": [
    "from ipysheet import sheet, column, to_dataframe\n",
    "import ipywidgets as w\n",
    "from workflow.scripts.utils import jupyter_utils\n",
    "s = jupyter_utils.get_ipysheet(snakemake.params.cell_per_sample, snakemake.wildcards.sample, snakemake.input.info)\n",
    "s"
   ]
  },
  {
   "cell_type": "markdown",
   "id": "a0aec2fb",
   "metadata": {},
   "source": [
    "### Please check the content of the dataframe before saving"
   ]
  },
  {
   "cell_type": "code",
   "execution_count": null,
   "id": "79931cc9",
   "metadata": {},
   "outputs": [],
   "source": [
    "import pandas as pd\n",
    "df = to_dataframe(s)\n",
    "df"
   ]
  },
  {
   "cell_type": "markdown",
   "id": "3103f646",
   "metadata": {},
   "source": [
    "### Formatting, saving file & cleaning data"
   ]
  },
  {
   "cell_type": "code",
   "execution_count": null,
   "id": "54c6c826",
   "metadata": {},
   "outputs": [],
   "source": [
    "df = df.rename({'selected?': 'prediction'}, axis=1)\n",
    "df[\"prediction\"] = df['prediction'].astype(int)\n",
    "df[\"probability\"] = df[\"prediction\"]\n",
    "df['cell'] = df['cell'] + \".sort.mdup.bam\"\n",
    "df.to_csv(snakemake.output[0], index=False, sep=\"\\t\")\n",
    "import subprocess\n",
    "subprocess.call(\"rm .snakemake/scripts/CountComplete_{sample}.pdf\".format(sample=snakemake.wildcards.sample), shell=True)"
   ]
  },
  {
   "cell_type": "markdown",
   "id": "55f94178",
   "metadata": {},
   "source": [
    "# Before leaving! Please read the following:\n",
    "### 1. File > Close and Halt\n",
    "### 2. Click on Quit (top right)\n",
    "### 3. You can close the webpage\n"
   ]
  }
 ],
 "metadata": {
  "kernelspec": {
   "display_name": "Python 3 (ipykernel)",
   "language": "python",
   "name": "python3"
  },
  "language_info": {
   "codemirror_mode": {
    "name": "ipython",
    "version": 3
   },
   "file_extension": ".py",
   "mimetype": "text/x-python",
   "name": "python",
   "nbconvert_exporter": "python",
   "pygments_lexer": "ipython3",
   "version": "3.10.5"
  }
 },
 "nbformat": 4,
 "nbformat_minor": 5
}
